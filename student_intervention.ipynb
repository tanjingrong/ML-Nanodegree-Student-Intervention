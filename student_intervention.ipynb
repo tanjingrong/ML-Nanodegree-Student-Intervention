{
 "cells": [
  {
   "cell_type": "markdown",
   "metadata": {},
   "source": [
    "# Machine Learning Engineer Nanodegree\n",
    "## Supervised Learning\n",
    "## Project 2: Building a Student Intervention System"
   ]
  },
  {
   "cell_type": "markdown",
   "metadata": {},
   "source": [
    "Welcome to the second project of the Machine Learning Engineer Nanodegree! In this notebook, some template code has already been provided for you, and it will be your job to implement the additional functionality necessary to successfully complete this project. Sections that begin with **'Implementation'** in the header indicate that the following block of code will require additional functionality which you must provide. Instructions will be provided for each section and the specifics of the implementation are marked in the code block with a `'TODO'` statement. Please be sure to read the instructions carefully!\n",
    "\n",
    "In addition to implementing code, there will be questions that you must answer which relate to the project and your implementation. Each section where you will answer a question is preceded by a **'Question X'** header. Carefully read each question and provide thorough answers in the following text boxes that begin with **'Answer:'**. Your project submission will be evaluated based on your answers to each of the questions and the implementation you provide.  \n",
    "\n",
    ">**Note:** Code and Markdown cells can be executed using the **Shift + Enter** keyboard shortcut. In addition, Markdown cells can be edited by typically double-clicking the cell to enter edit mode."
   ]
  },
  {
   "cell_type": "markdown",
   "metadata": {},
   "source": [
    "### Question 1 - Classification vs. Regression\n",
    "*Your goal for this project is to identify students who might need early intervention before they fail to graduate. Which type of supervised learning problem is this, classification or regression? Why?*"
   ]
  },
  {
   "cell_type": "markdown",
   "metadata": {},
   "source": [
    "This is a classification problem. The purpose of the project is to determine which students will require intervention. Hence, the desired output groups will be students who need intervention and students who do not require intervention, 2 specific labels. Also, the target column is made up of categorical data instead of continuous numerical data. "
   ]
  },
  {
   "cell_type": "markdown",
   "metadata": {},
   "source": [
    "## Exploring the Data\n",
    "Run the code cell below to load necessary Python libraries and load the student data. Note that the last column from this dataset, `'passed'`, will be our target label (whether the student graduated or didn't graduate). All other columns are features about each student."
   ]
  },
  {
   "cell_type": "code",
   "execution_count": 3,
   "metadata": {
    "collapsed": false
   },
   "outputs": [
    {
     "name": "stdout",
     "output_type": "stream",
     "text": [
      "Student data read successfully!\n"
     ]
    }
   ],
   "source": [
    "# Import libraries\n",
    "import numpy as np\n",
    "import pandas as pd\n",
    "from time import time\n",
    "from sklearn.metrics import f1_score\n",
    "from IPython.display import Image\n",
    "from IPython.core.display import HTML \n",
    "\n",
    "\n",
    "# Read student data\n",
    "student_data = pd.read_csv(\"student-data.csv\")\n",
    "print \"Student data read successfully!\""
   ]
  },
  {
   "cell_type": "markdown",
   "metadata": {},
   "source": [
    "### Implementation: Data Exploration\n",
    "Let's begin by investigating the dataset to determine how many students we have information on, and learn about the graduation rate among these students. In the code cell below, you will need to compute the following:\n",
    "- The total number of students, `n_students`.\n",
    "- The total number of features for each student, `n_features`.\n",
    "- The number of those students who passed, `n_passed`.\n",
    "- The number of those students who failed, `n_failed`.\n",
    "- The graduation rate of the class, `grad_rate`, in percent (%).\n"
   ]
  },
  {
   "cell_type": "code",
   "execution_count": 4,
   "metadata": {
    "collapsed": false
   },
   "outputs": [
    {
     "name": "stdout",
     "output_type": "stream",
     "text": [
      "Total number of students: 395\n",
      "Number of features: 30\n",
      "Number of students who passed: 265\n",
      "Number of students who failed: 130\n",
      "Graduation rate of the class: 67.09%\n"
     ]
    }
   ],
   "source": [
    "\n",
    "# TODO: Calculate number of students\n",
    "# Total number of students can be calculated by returning the total number of rows \n",
    "n_students = student_data.shape[0]\n",
    "\n",
    "# TODO: Calculate number of features\n",
    "# Total number of features can be calculated by returning the total number of columns with the passed column removed\n",
    "n_features = student_data.shape[1]-1\n",
    "\n",
    "# In the following calculations, we first identify each of the sub groups within the 'passed' column before counting them \n",
    "# TODO: Calculate passing students\n",
    "n_passed = student_data.passed[student_data.passed == 'yes'].count()\n",
    "\n",
    "# TODO: Calculate failing students\n",
    "n_failed = n_failed = student_data.passed[student_data.passed == 'no'].count()\n",
    "\n",
    "# TODO: Calculate graduation rate\n",
    "# Calculate graduation rate by standard multiplication function here instead of numpy is more elegant\n",
    "grad_rate = 100.*n_passed/n_students\n",
    "\n",
    "# Print the results\n",
    "print \"Total number of students: {}\".format(n_students)\n",
    "print \"Number of features: {}\".format(n_features)\n",
    "print \"Number of students who passed: {}\".format(n_passed)\n",
    "print \"Number of students who failed: {}\".format(n_failed)\n",
    "print \"Graduation rate of the class: {:.2f}%\".format(grad_rate)"
   ]
  },
  {
   "cell_type": "markdown",
   "metadata": {},
   "source": [
    "## Preparing the Data\n",
    "In this section, we will prepare the data for modeling, training and testing.\n",
    "\n",
    "### Identify feature and target columns\n",
    "It is often the case that the data you obtain contains non-numeric features. This can be a problem, as most machine learning algorithms expect numeric data to perform computations with.\n",
    "\n",
    "Run the code cell below to separate the student data into feature and target columns to see if any features are non-numeric."
   ]
  },
  {
   "cell_type": "code",
   "execution_count": 5,
   "metadata": {
    "collapsed": false
   },
   "outputs": [
    {
     "name": "stdout",
     "output_type": "stream",
     "text": [
      "Feature columns:\n",
      "['school', 'sex', 'age', 'address', 'famsize', 'Pstatus', 'Medu', 'Fedu', 'Mjob', 'Fjob', 'reason', 'guardian', 'traveltime', 'studytime', 'failures', 'schoolsup', 'famsup', 'paid', 'activities', 'nursery', 'higher', 'internet', 'romantic', 'famrel', 'freetime', 'goout', 'Dalc', 'Walc', 'health', 'absences']\n",
      "\n",
      "Target column: passed\n",
      "\n",
      "Feature values:\n",
      "  school sex  age address famsize Pstatus  Medu  Fedu     Mjob      Fjob  \\\n",
      "0     GP   F   18       U     GT3       A     4     4  at_home   teacher   \n",
      "1     GP   F   17       U     GT3       T     1     1  at_home     other   \n",
      "2     GP   F   15       U     LE3       T     1     1  at_home     other   \n",
      "3     GP   F   15       U     GT3       T     4     2   health  services   \n",
      "4     GP   F   16       U     GT3       T     3     3    other     other   \n",
      "\n",
      "    ...    higher internet  romantic  famrel  freetime goout Dalc Walc health  \\\n",
      "0   ...       yes       no        no       4         3     4    1    1      3   \n",
      "1   ...       yes      yes        no       5         3     3    1    1      3   \n",
      "2   ...       yes      yes        no       4         3     2    2    3      3   \n",
      "3   ...       yes      yes       yes       3         2     2    1    1      5   \n",
      "4   ...       yes       no        no       4         3     2    1    2      5   \n",
      "\n",
      "  absences  \n",
      "0        6  \n",
      "1        4  \n",
      "2       10  \n",
      "3        2  \n",
      "4        4  \n",
      "\n",
      "[5 rows x 30 columns]\n"
     ]
    }
   ],
   "source": [
    "# Extract feature columns\n",
    "feature_cols = list(student_data.columns[:-1])\n",
    "\n",
    "# Extract target column 'passed'\n",
    "target_col = student_data.columns[-1] \n",
    "\n",
    "# Show the list of columns\n",
    "print \"Feature columns:\\n{}\".format(feature_cols)\n",
    "print \"\\nTarget column: {}\".format(target_col)\n",
    "\n",
    "# Separate the data into feature data and target data (X_all and y_all, respectively)\n",
    "X_all = student_data[feature_cols]\n",
    "y_all = student_data[target_col]\n",
    "\n",
    "# Show the feature information by printing the first five rows\n",
    "print \"\\nFeature values:\"\n",
    "print X_all.head()"
   ]
  },
  {
   "cell_type": "markdown",
   "metadata": {},
   "source": [
    "### Preprocess Feature Columns\n",
    "\n",
    "As you can see, there are several non-numeric columns that need to be converted! Many of them are simply `yes`/`no`, e.g. `internet`. These can be reasonably converted into `1`/`0` (binary) values.\n",
    "\n",
    "Other columns, like `Mjob` and `Fjob`, have more than two values, and are known as _categorical variables_. The recommended way to handle such a column is to create as many columns as possible values (e.g. `Fjob_teacher`, `Fjob_other`, `Fjob_services`, etc.), and assign a `1` to one of them and `0` to all others.\n",
    "\n",
    "These generated columns are sometimes called _dummy variables_, and we will use the [`pandas.get_dummies()`](http://pandas.pydata.org/pandas-docs/stable/generated/pandas.get_dummies.html?highlight=get_dummies#pandas.get_dummies) function to perform this transformation. Run the code cell below to perform the preprocessing routine discussed in this section."
   ]
  },
  {
   "cell_type": "code",
   "execution_count": 6,
   "metadata": {
    "collapsed": false
   },
   "outputs": [
    {
     "name": "stdout",
     "output_type": "stream",
     "text": [
      "Processed feature columns (48 total features):\n",
      "['school_GP', 'school_MS', 'sex_F', 'sex_M', 'age', 'address_R', 'address_U', 'famsize_GT3', 'famsize_LE3', 'Pstatus_A', 'Pstatus_T', 'Medu', 'Fedu', 'Mjob_at_home', 'Mjob_health', 'Mjob_other', 'Mjob_services', 'Mjob_teacher', 'Fjob_at_home', 'Fjob_health', 'Fjob_other', 'Fjob_services', 'Fjob_teacher', 'reason_course', 'reason_home', 'reason_other', 'reason_reputation', 'guardian_father', 'guardian_mother', 'guardian_other', 'traveltime', 'studytime', 'failures', 'schoolsup', 'famsup', 'paid', 'activities', 'nursery', 'higher', 'internet', 'romantic', 'famrel', 'freetime', 'goout', 'Dalc', 'Walc', 'health', 'absences']\n"
     ]
    }
   ],
   "source": [
    "def preprocess_features(X):\n",
    "    ''' Preprocesses the student data and converts non-numeric binary variables into\n",
    "        binary (0/1) variables. Converts categorical variables into dummy variables. '''\n",
    "    \n",
    "    # Initialize new output DataFrame\n",
    "    output = pd.DataFrame(index = X.index)\n",
    "\n",
    "    # Investigate each feature column for the data\n",
    "    for col, col_data in X.iteritems():\n",
    "        \n",
    "        # If data type is non-numeric, replace all yes/no values with 1/0\n",
    "        if col_data.dtype == object:\n",
    "            col_data = col_data.replace(['yes', 'no'], [1, 0])\n",
    "\n",
    "        # If data type is categorical, convert to dummy variables\n",
    "        if col_data.dtype == object:\n",
    "            # Example: 'school' => 'school_GP' and 'school_MS'\n",
    "            col_data = pd.get_dummies(col_data, prefix = col)  \n",
    "        \n",
    "        # Collect the revised columns\n",
    "        output = output.join(col_data)\n",
    "    \n",
    "    return output\n",
    "\n",
    "X_all = preprocess_features(X_all)\n",
    "print \"Processed feature columns ({} total features):\\n{}\".format(len(X_all.columns), list(X_all.columns))"
   ]
  },
  {
   "cell_type": "markdown",
   "metadata": {},
   "source": [
    "### Implementation: Training and Testing Data Split\n",
    "So far, we have converted all _categorical_ features into numeric values. For the next step, we split the data (both features and corresponding labels) into training and test sets. In the following code cell below, you will need to implement the following:\n",
    "- Randomly shuffle and split the data (`X_all`, `y_all`) into training and testing subsets.\n",
    "  - Use 300 training points (approximately 75%) and 95 testing points (approximately 25%).\n",
    "  - Set a `random_state` for the function(s) you use, if provided.\n",
    "  - Store the results in `X_train`, `X_test`, `y_train`, and `y_test`."
   ]
  },
  {
   "cell_type": "code",
   "execution_count": 7,
   "metadata": {
    "collapsed": false
   },
   "outputs": [
    {
     "name": "stdout",
     "output_type": "stream",
     "text": [
      "Training set has 300 samples.\n",
      "Testing set has 95 samples.\n"
     ]
    }
   ],
   "source": [
    "# TODO: Import any additional functionality you may need here\n",
    "from sklearn.cross_validation import StratifiedShuffleSplit as SSS\n",
    "\n",
    "# TODO: Set the number of training points\n",
    "num_train = 300\n",
    "\n",
    "# Set the number of testing points\n",
    "num_test = 95\n",
    "\n",
    "# TODO: Shuffle and split the dataset into the number of training and testing points above\n",
    "\n",
    "def stratify_and_shuffle(X,y,num_train):\n",
    "    sss = SSS(y, 1, train_size=num_train, test_size=num_test)\n",
    "\n",
    "    # only one iteration\n",
    "    for train_index, test_index in sss:\n",
    "        X_train = X.iloc[train_index]\n",
    "        X_test = X.iloc[test_index]\n",
    "        y_train = y.iloc[train_index]\n",
    "        y_test = y.iloc[test_index]\n",
    "        \n",
    "    return X_train, X_test, y_train, y_test\n",
    "    \n",
    "X_train, X_test, y_train, y_test = stratify_and_shuffle(X_all, y_all, num_train)\n",
    "# Show the results of the split\n",
    "print \"Training set has {} samples.\".format(X_train.shape[0])\n",
    "print \"Testing set has {} samples.\".format(X_test.shape[0])"
   ]
  },
  {
   "cell_type": "markdown",
   "metadata": {},
   "source": [
    "## Training and Evaluating Models\n",
    "In this section, you will choose 3 supervised learning models that are appropriate for this problem and available in `scikit-learn`. You will first discuss the reasoning behind choosing these three models by considering what you know about the data and each model's strengths and weaknesses. You will then fit the model to varying sizes of training data (100 data points, 200 data points, and 300 data points) and measure the F<sub>1</sub> score. You will need to produce three tables (one for each model) that shows the training set size, training time, prediction time, F<sub>1</sub> score on the training set, and F<sub>1</sub> score on the testing set."
   ]
  },
  {
   "cell_type": "markdown",
   "metadata": {},
   "source": [
    "### Question 2 - Model Application\n",
    "*List three supervised learning models that are appropriate for this problem. What are the general applications of each model? What are their strengths and weaknesses? Given what you know about the data, why did you choose these models to be applied?*"
   ]
  },
  {
   "cell_type": "markdown",
   "metadata": {},
   "source": [
    "The supervised learning models that are appropriate are:\n",
    "1) Decision Tree Classifier\n",
    "2) Gaussian Naive Bayes\n",
    "3) Support Vector Classifier\n",
    "\n",
    "General Applications:\n",
    "1) Decision Tree Classifier : Operations Research, especially in the decision analysis process i. e To identify a strategy that most likely reaches a desired goal\n",
    "2) Naive Bayes: Text categorisation e.g document classification, spam filtering. It is also used in automatic medical diagnosis.\n",
    "3) Support Vector Classifier: Data classification and many industrial scale applications. Classification, Regression and outliers detection \n",
    "\n",
    "Strength and Weaknesses:\n",
    "\n",
    "DECISION TREE CLASSIFIER\n",
    "\n",
    "Strengths:\n",
    "\n",
    "1) Easy to understand \n",
    "2) Sturdy model and require little preparation( not requires data normalisation, dummy variables, outlier, missing values resolution and sustains model generation assumption violations )\n",
    "3) It can scale logarithmically with data size\n",
    "4) Especially versatile when used on dataset with categorical and numerical values\n",
    "\n",
    "Weaknesses:\n",
    "\n",
    "1) The use of Decision Trees may lead to overfitting.\n",
    "2) Decision Trees need to be rebuilt when there is new data added/removed into the database. Hence it is not suitable for analysis that involves live continuous update of the dataset. \n",
    "3) Decision tree learners will create biased trees if some classes dominate.(recommended to balance the dataset prior to fitting with the decision tree.)\n",
    "\n",
    "\n",
    "NAIVE BAYES:\n",
    "\n",
    "Strengths\n",
    "\n",
    "1) It can estimate parameters even with small data size effectively\n",
    "2) Highly scalable and generates models extremely fast\n",
    "\n",
    "Weakness\n",
    "1) Predicted probability maybe inaccurately estimated and should not be always taken seriously\n",
    "\n",
    "\n",
    "SUPPORT VECTOR CLASSIFIERS:\n",
    "\n",
    "Strengths\n",
    "\n",
    "1) It is effective in high dimensional space (it could still provide good prediction when the number of features is greater than the number of samples) and it is also capable of modelling complex separating hyperplanes\n",
    "2) It is memory efficient, as only uses a subset of training point to generate the hyperplanes.\n",
    "3) We can use different kernel function to model different separating hyperplanes\n",
    "\n",
    "Weakness\n",
    "\n",
    "1) It requires a lot of memory and cpu time \n",
    "2) It does not directly provide probability estimates. \n",
    "3) It is expensive when used for 5-fold cross validation and multi class problem\n",
    "4) If number of dimensions is much greater than training samples, its performance maybe compromised\n",
    "\n",
    "\n",
    "\n",
    "\n",
    "What the initial statistics tell us about our dataset:\n",
    "\n",
    "1) There is a greater proportion of students passing than failing, hence dataset is slightly skewed.\n",
    "2) There is a good proportion of features to the sample data. (more sample data available compared to number of features)\n",
    "3) Data set is small.\n",
    "\n",
    "\n",
    "Reasons for choice of Decision Tree Classifier:\n",
    "a) It is a classifier that can easily be visualized, hence it will be easy to understand and interprete.\n",
    "b) It is capable of binary classification, this is useful since the result of our prediction is binary(whether a student passes or fails). \n",
    "c) It requires little data preparation.\n",
    "    \n",
    "Reasons for choice of Naive Bayes:\n",
    "\n",
    "1) It has a light memory and cpu footprint\n",
    "2) It requires a small amount of training data to estimate the necessary parameters.\n",
    "    \n",
    "Reasons for choice of Support Vector Classifier:\n",
    "\n",
    "1) SVCs work well when the size of the dataset is small\n",
    "  \n",
    "   \n",
    "\n"
   ]
  },
  {
   "cell_type": "markdown",
   "metadata": {},
   "source": [
    "### Setup\n",
    "Run the code cell below to initialize three helper functions which you can use for training and testing the three supervised learning models you've chosen above. The functions are as follows:\n",
    "- `train_classifier` - takes as input a classifier and training data and fits the classifier to the data.\n",
    "- `predict_labels` - takes as input a fit classifier, features, and a target labeling and makes predictions using the F<sub>1</sub> score.\n",
    "- `train_predict` - takes as input a classifier, and the training and testing data, and performs `train_clasifier` and `predict_labels`.\n",
    " - This function will report the F<sub>1</sub> score for both the training and testing data separately."
   ]
  },
  {
   "cell_type": "code",
   "execution_count": 8,
   "metadata": {
    "collapsed": false
   },
   "outputs": [],
   "source": [
    "def train_classifier(clf, X_train, y_train):\n",
    "    ''' Fits a classifier to the training data. '''\n",
    "    \n",
    "    # Start the clock, train the classifier, then stop the clock\n",
    "    start = time()\n",
    "    clf.fit(X_train, y_train)\n",
    "    end = time()\n",
    "    \n",
    "    # Print the results\n",
    "    print \"Trained model in {:.4f} seconds\".format(end - start)\n",
    "\n",
    "    \n",
    "def predict_labels(clf, features, target):\n",
    "    ''' Makes predictions using a fit classifier based on F1 score. '''\n",
    "    \n",
    "    # Start the clock, make predictions, then stop the clock\n",
    "    start = time()\n",
    "    y_pred = clf.predict(features)\n",
    "    end = time()\n",
    "    \n",
    "    # Print and return results\n",
    "    print \"Made predictions in {:.4f} seconds.\".format(end - start)\n",
    "    return f1_score(target.values, y_pred, pos_label='yes')\n",
    "\n",
    "\n",
    "def train_predict(clf, X_train, y_train, X_test, y_test):\n",
    "    ''' Train and predict using a classifer based on F1 score. '''\n",
    "    \n",
    "    # Indicate the classifier and the training set size\n",
    "    print \"Training a {} using a training set size of {}. . .\".format(clf.__class__.__name__, len(X_train))\n",
    "    \n",
    "    # Train the classifier\n",
    "    train_classifier(clf, X_train, y_train)\n",
    "    \n",
    "    # Print the results of prediction for both training and testing\n",
    "    print \"F1 score for training set: {:.4f}.\".format(predict_labels(clf, X_train, y_train))\n",
    "    print \"F1 score for test set: {:.4f}.\".format(predict_labels(clf, X_test, y_test))"
   ]
  },
  {
   "cell_type": "markdown",
   "metadata": {},
   "source": [
    "### Implementation: Model Performance Metrics\n",
    "With the predefined functions above, you will now import the three supervised learning models of your choice and run the `train_predict` function for each one. Remember that you will need to train and predict on each classifier for three different training set sizes: 100, 200, and 300. Hence, you should expect to have 9 different outputs below — 3 for each model using the varying training set sizes. In the following code cell, you will need to implement the following:\n",
    "- Import the three supervised learning models you've discussed in the previous section.\n",
    "- Initialize the three models and store them in `clf_A`, `clf_B`, and `clf_C`.\n",
    " - Use a `random_state` for each model you use, if provided.\n",
    " - **Note:** Use the default settings for each model — you will tune one specific model in a later section.\n",
    "- Create the different training set sizes to be used to train each model.\n",
    " - *Do not reshuffle and resplit the data! The new training points should be drawn from `X_train` and `y_train`.*\n",
    "- Fit each model with each training set size and make predictions on the test set (9 in total).  \n",
    "**Note:** Three tables are provided after the following code cell which can be used to store your results."
   ]
  },
  {
   "cell_type": "code",
   "execution_count": 9,
   "metadata": {
    "collapsed": false
   },
   "outputs": [
    {
     "name": "stdout",
     "output_type": "stream",
     "text": [
      "Training a DecisionTreeClassifier using a training set size of 100. . .\n",
      "Trained model in 0.0015 seconds\n",
      "Made predictions in 0.0004 seconds.\n",
      "F1 score for training set: 1.0000.\n",
      "Made predictions in 0.0004 seconds.\n",
      "F1 score for test set: 0.7667.\n",
      "Training a DecisionTreeClassifier using a training set size of 200. . .\n",
      "Trained model in 0.0052 seconds\n",
      "Made predictions in 0.0005 seconds.\n",
      "F1 score for training set: 1.0000.\n",
      "Made predictions in 0.0004 seconds.\n",
      "F1 score for test set: 0.7258.\n",
      "Training a DecisionTreeClassifier using a training set size of 300. . .\n",
      "Trained model in 0.0036 seconds\n",
      "Made predictions in 0.0005 seconds.\n",
      "F1 score for training set: 1.0000.\n",
      "Made predictions in 0.0004 seconds.\n",
      "F1 score for test set: 0.7727.\n",
      "Training a GaussianNB using a training set size of 100. . .\n",
      "Trained model in 0.0009 seconds\n",
      "Made predictions in 0.0004 seconds.\n",
      "F1 score for training set: 0.8033.\n",
      "Made predictions in 0.0005 seconds.\n",
      "F1 score for test set: 0.7368.\n",
      "Training a GaussianNB using a training set size of 200. . .\n",
      "Trained model in 0.0010 seconds\n",
      "Made predictions in 0.0006 seconds.\n",
      "F1 score for training set: 0.7940.\n",
      "Made predictions in 0.0004 seconds.\n",
      "F1 score for test set: 0.7317.\n",
      "Training a GaussianNB using a training set size of 300. . .\n",
      "Trained model in 0.0011 seconds\n",
      "Made predictions in 0.0005 seconds.\n",
      "F1 score for training set: 0.7729.\n",
      "Made predictions in 0.0003 seconds.\n",
      "F1 score for test set: 0.7360.\n",
      "Training a SVC using a training set size of 100. . .\n",
      "Trained model in 0.0026 seconds\n",
      "Made predictions in 0.0016 seconds.\n",
      "F1 score for training set: 0.8671.\n",
      "Made predictions in 0.0016 seconds.\n",
      "F1 score for test set: 0.8133.\n",
      "Training a SVC using a training set size of 200. . .\n",
      "Trained model in 0.0069 seconds\n",
      "Made predictions in 0.0056 seconds.\n",
      "F1 score for training set: 0.8591.\n",
      "Made predictions in 0.0028 seconds.\n",
      "F1 score for test set: 0.8212.\n",
      "Training a SVC using a training set size of 300. . .\n",
      "Trained model in 0.0147 seconds\n",
      "Made predictions in 0.0118 seconds.\n",
      "F1 score for training set: 0.8665.\n",
      "Made predictions in 0.0037 seconds.\n",
      "F1 score for test set: 0.8105.\n"
     ]
    }
   ],
   "source": [
    "# TODO: Import the three supervised learning models from sklearn\n",
    "from sklearn.tree import DecisionTreeClassifier as DTC\n",
    "from sklearn.naive_bayes import GaussianNB as GNB\n",
    "from sklearn.svm import SVC\n",
    "\n",
    "# TODO: Initialize the three models\n",
    "clf_A = DTC(random_state=42)\n",
    "clf_B = GNB(random_state=42)\n",
    "clf_C = SVC(random_state=42)\n",
    "\n",
    "# TODO: Set up the training set sizes\n",
    "X_train_100 = X_train[:100]\n",
    "y_train_100 = y_train[:100]\n",
    "\n",
    "X_train_200 = X_train[:200]\n",
    "y_train_200 = y_train[:200]\n",
    "\n",
    "X_train_300 = X_train[:300]\n",
    "y_train_300 = y_train[:300]\n",
    "\n",
    "# TODO: Execute the 'train_predict' function for each classifier and each training set size\n",
    "\n",
    "# Noted that I may use a loop to go through the algorithms but decided \n",
    "# to leave them to clearly show 9 different results as specified by the rubric.\n",
    "\n",
    "#for clf in [clf_A, clf_B, clf_C]:\n",
    "    #print \"\\n{}: \\n\".format(clf.__class__.__name__)\n",
    "    #for n in [100, 200, 300]:\n",
    "        #train_predict(clf, X_train[:n], y_train[:n], X_test, y_test)\n",
    "\n",
    "\n",
    "#Train_predict for DTC\n",
    "train_predict(clf_A, X_train_100, y_train_100, X_test, y_test)\n",
    "train_predict(clf_A, X_train_200, y_train_200, X_test, y_test)\n",
    "train_predict(clf_A, X_train_300, y_train_300, X_test, y_test)\n",
    "\n",
    "#Train_predict for GNB\n",
    "train_predict(clf_B, X_train_100, y_train_100, X_test, y_test)\n",
    "train_predict(clf_B, X_train_200, y_train_200, X_test, y_test)\n",
    "train_predict(clf_B, X_train_300, y_train_300, X_test, y_test)\n",
    "\n",
    "#Train_predict for SVC\n",
    "train_predict(clf_C, X_train_100, y_train_100, X_test, y_test)\n",
    "train_predict(clf_C, X_train_200, y_train_200, X_test, y_test)\n",
    "train_predict(clf_C, X_train_300, y_train_300, X_test, y_test)\n"
   ]
  },
  {
   "cell_type": "markdown",
   "metadata": {},
   "source": [
    "### Tabular Results\n",
    "Edit the cell below to see how a table can be designed in [Markdown](https://github.com/adam-p/markdown-here/wiki/Markdown-Cheatsheet#tables). You can record your results from above in the tables provided."
   ]
  },
  {
   "cell_type": "markdown",
   "metadata": {},
   "source": [
    "** Classifer A - Decision Tree Classifier**  \n",
    "\n",
    "| Training Set Size | Training Time   | Prediction Time (test) | F1 Score (train)| F1 Score (test) |\n",
    "| :---------------: | :-------------: | :--------------------: | :-------------: | :-------------: |\n",
    "| 100               | 0.0045 seconds  | 0.0004 seconds         | 1.0000         |0.6833           |\n",
    "| 200               | 0.0033 seconds  | 0.0005 seconds         | 1.0000         |0.7460           |\n",
    "| 300               | 0.0044 second   | 0.0004 seconds         | 1.0000         |0.7231           |\n",
    "\n",
    "** Classifer B - Gaussian Naive Bayes Classifier **  \n",
    "\n",
    "| Training Set Size | Training Time   | Prediction Time (test) | F1 Score (train) | F1 Score (test) |\n",
    "| :---------------: | :-------------: | :--------------------: | :--------------: | :-------------: |\n",
    "| 100               | 0.0019 seconds  | 0.0008 seconds         | 0.8475           |  0.6726         |\n",
    "| 200               | 0.0020 seconds  | 0.0007 seconds         | 0.8261           |  0.7727         |\n",
    "| 300               | 0.0023 seconds  | 0.0007 seconds         | 0.7913           |  0.7597         |\n",
    "\n",
    "** Classifer C - Support Vector Classifier**  \n",
    "\n",
    "| Training Set Size | Training Time   | Prediction Time (test) | F1 Score (train) | F1 Score (test) |\n",
    "| :---------------: | :-------------: | :--------------------: | :--------------: | :-------------: |\n",
    "| 100               | 0.0027 seconds  | 0.0016 seconds         | 0.8936           | 0.7973          |\n",
    "| 200               | 0.0065 seconds  | 0.0024 seconds         | 0.8904           | 0.8000          |\n",
    "| 300               | 0.0127 seconds  | 0.0034 seconds         | 0.8671           | 0.7815          |       "
   ]
  },
  {
   "cell_type": "markdown",
   "metadata": {},
   "source": [
    "## Choosing the Best Model\n",
    "In this final section, you will choose from the three supervised learning models the *best* model to use on the student data. You will then perform a grid search optimization for the model over the entire training set (`X_train` and `y_train`) by tuning at least one parameter to improve upon the untuned model's F<sub>1</sub> score. "
   ]
  },
  {
   "cell_type": "markdown",
   "metadata": {},
   "source": [
    "### Question 3 - Chosing the Best Model\n",
    "*Based on the experiments you performed earlier, in one to two paragraphs, explain to the board of supervisors what single model you chose as the best model. Which model is generally the most appropriate based on the available data, limited resources, cost, and performance?*"
   ]
  },
  {
   "cell_type": "markdown",
   "metadata": {},
   "source": [
    "From the experiments conducted earlier, the model most appropriate based on the available data is support vector classifier. The experiment results above is very much within expectations of what was described in question 2 above.\n",
    "Before we explain the results, let us briefly understand how to interprete the evaluation metrics. The different training set sizes are factored into the model such that we can make comparisons of the training and prediction time taken as well as the consistency of the F1 scores as training sizes increases. Generally we look out for consistent F1 scores even as training sizes increases.\n",
    "\n",
    "Training and Prediction time estimates the duration that is required for these tests to be carried out. We look out for the shortest time possible for these tests to be carried out but expects duration to increase as training set size increases. The faster the time taken for the training and the test, the less costly it will be in terms of resource expanded and opportunity cost incurred in the event the prediction time affects the costs of operation (e.g electronic trading of financial derivatives)\n",
    "\n",
    "The F1 score is a measure of accuracy of these tests with 0 being no accuracy at all an 1 being extremely accurate and precise. F1 scores between training data is compared with the test data to ensure that when testing the model on data that was not used to train the model (new and unexpected data), the F1 score remains close to 1- meaning, the trained model can actually predict future values that are accurate.  \n",
    "\n",
    "The Decision Tree Classifier returned a perfect training F1 score in all three training set sizes but returned the poorest set of testing F1 score with a range of 0.683 to 0.746. This can be explained by overfitting. As the classifier itself is prone to the problem of overfitting in presence of a sufficiently large number of features, we can thus conclude that the number of features in this data set is more than the ideal number for this particular size of data results in overfitting. F1 scores for this classifier is also the most inconsistent. It is also worth noting that this model has the fastest prediction time amongst the three. Overfitting can be solved but will not be explored in this experiment.\n",
    "\n",
    "The Naive Bayes Classifier returned the fastest training time ranging from 0.0019 to 0.0023 seconds. This is inline with expectations as described in question 2 that this classifier will be able to generate models extremely fast.This Classifier is faster than SVC by almost 2 to 3 times. The tight range of training time also explains its high scalability. Unfortunately, this model returns the poorest range of F1 test scores between 0.6726 and 0.777.\n",
    "\n",
    "The Support Vector Classifier has the longest training and prediction time but gives the best F1 scores that is both accurate (high in value) and consistent within the 3 training sets and when comparing the scores between test and training set. \n",
    "\n",
    "In conclusion, SVC is the most ideal and appropriate model. In this particular project, we are to accurately determine which students are likely to fail to graduate and intervene beforehand, thus accuracy is of the highest priority for this purpose. Besides, for all 3 models, the time take for both prediction and training are less than 1 second. The evaluation is conducted only after the data set has been collected for some time and is not ongoing. Thus, with a processing time of less than 1 second, I would say even the slowest SVC model is pretty fast for this purpose."
   ]
  },
  {
   "cell_type": "markdown",
   "metadata": {},
   "source": [
    "### Question 4 - Model in Layman's Terms\n",
    "*In one to two paragraphs, explain to the board of directors in layman's terms how the final model chosen is supposed to work. For example if you've chosen to use a decision tree or a support vector machine, how does the model go about making a prediction?*"
   ]
  },
  {
   "cell_type": "markdown",
   "metadata": {},
   "source": [
    "A SVC is a type of linear separator. Suppose we want to split students predicted to fail from students who are likely to pass by drawing a line. Notice that there are an infinite number of lines that will accomplish this task. SVCs, in particular, find the \"maximum-margin\" line - the middle line. We draw a straight line through the data(all the students mixed up) through the middle to separate it into two classes, pass and fail and in the process try to maximize the diagonal distance between the 2 groups.To draw the maximum margin line, only the data points closest to the line matter. These points are known as \"support vectors\" which gives SVC its name as seen in the image below.\n",
    "\n",
    "Image(url= \" https://udacity-github-sync-content.s3.amazonaws.com/_imgs/372/1468851732/SVM_2.png\")\n",
    "\n",
    "\n",
    "\n",
    "Thus SVC will first generate a straightline as the first set of information passes through. As it undergoes training with more new data passed along the classifier, it will attempt to optimize the maximum margin line and it may change shape, into curves in the process as various points close to the support vectors are \"lifted\" to a higher dimension onto a hyperplane (no longer 2D). Through this repetitive process, the maximum margin line is optimized and will be capable of separating the 2 groups very accurately and clearly as the margin width is being maximally stretched(see picture above) within its optimized parameters. Thus this will result in a distinct separator that is very capable of accurately separating students who are likely to graduate and those who will not. "
   ]
  },
  {
   "cell_type": "markdown",
   "metadata": {},
   "source": [
    "### Implementation: Model Tuning\n",
    "Fine tune the chosen model. Use grid search (`GridSearchCV`) with at least one important parameter tuned with at least 3 different values. You will need to use the entire training set for this. In the code cell below, you will need to implement the following:\n",
    "- Import [`sklearn.grid_search.gridSearchCV`](http://scikit-learn.org/stable/modules/generated/sklearn.grid_search.GridSearchCV.html) and [`sklearn.metrics.make_scorer`](http://scikit-learn.org/stable/modules/generated/sklearn.metrics.make_scorer.html).\n",
    "- Create a dictionary of parameters you wish to tune for the chosen model.\n",
    " - Example: `parameters = {'parameter' : [list of values]}`.\n",
    "- Initialize the classifier you've chosen and store it in `clf`.\n",
    "- Create the F<sub>1</sub> scoring function using `make_scorer` and store it in `f1_scorer`.\n",
    " - Set the `pos_label` parameter to the correct value!\n",
    "- Perform grid search on the classifier `clf` using `f1_scorer` as the scoring method, and store it in `grid_obj`.\n",
    "- Fit the grid search object to the training data (`X_train`, `y_train`), and store it in `grid_obj`."
   ]
  },
  {
   "cell_type": "code",
   "execution_count": 11,
   "metadata": {
    "collapsed": false
   },
   "outputs": [
    {
     "name": "stdout",
     "output_type": "stream",
     "text": [
      "Made predictions in 0.0088 seconds.\n",
      "Tuned model has a training F1 score of 0.9781.\n",
      "Made predictions in 0.0029 seconds.\n",
      "Tuned model has a testing F1 score of 0.8153.\n"
     ]
    }
   ],
   "source": [
    "# Will Revisit the script to apply feature scaling at a later time\n",
    "# TODO: Import 'GridSearchCV' and 'make_scorer'\n",
    "from sklearn.grid_search import GridSearchCV as GSCV\n",
    "from sklearn.metrics import make_scorer as ms\n",
    "\n",
    "# TODO: Create the parameters list you wish to tune\n",
    "parameters = [{'C':[1,10,50,100,200,300,400,500,1000],\n",
    "               'gamma':[1e-4, 1e-3, 1e-2, 1e-1, 1e0, 1e1],\n",
    "               'kernel': ['rbf']}]\n",
    "\n",
    "\n",
    "# TODO: Initialize the classifier\n",
    "clf_SVC = SVC()\n",
    "            \n",
    "# TODO: Make an f1 scoring function using 'make_scorer' \n",
    "f1_scorer = ms(f1_score, pos_label = \"yes\")\n",
    "\n",
    "\n",
    "# TODO: Perform grid search on the classifier using the f1_scorer as the scoring method\n",
    "grid_obj = GSCV(estimator = clf_SVC, param_grid = parameters, scoring = f1_scorer)\n",
    "\n",
    "# TODO: Fit the grid search object to the training data and find the optimal parameters\n",
    "grid_obj = grid_obj.fit(X_train, y_train)\n",
    "\n",
    "# Get the estimator\n",
    "clf_SVC = grid_obj.best_estimator_\n",
    "\n",
    "# Report the final F1 score for training and testing after parameter tuning\n",
    "print \"Tuned model has a training F1 score of {:.4f}.\".format(predict_labels(clf_SVC, X_train, y_train))\n",
    "print \"Tuned model has a testing F1 score of {:.4f}.\".format(predict_labels(clf_SVC, X_test, y_test))"
   ]
  },
  {
   "cell_type": "markdown",
   "metadata": {},
   "source": [
    "### Question 5 - Final F<sub>1</sub> Score\n",
    "*What is the final model's F<sub>1</sub> score for training and testing? How does that score compare to the untuned model?*"
   ]
  },
  {
   "cell_type": "markdown",
   "metadata": {},
   "source": [
    "Tuned model has a training F1 score of 0.9781 and a testing F1 score of 0.8153. Both the tuned training and testing F1 scores are higher than the untuned model, comparing tuned to untuned training scores of 0.9781 to the highest 0.8936 and tuned to untuned test scores of 0.8153 to 0.800. Thus the tuned model will easily generate F1 scores that are higher than the average of those in an untuned model. "
   ]
  },
  {
   "cell_type": "markdown",
   "metadata": {},
   "source": [
    "> **Note**: Once you have completed all of the code implementations and successfully answered each question above, you may finalize your work by exporting the iPython Notebook as an HTML document. You can do this by using the menu above and navigating to  \n",
    "**File -> Download as -> HTML (.html)**. Include the finished document along with this notebook as your submission."
   ]
  }
 ],
 "metadata": {
  "kernelspec": {
   "display_name": "Python [python2]",
   "language": "python",
   "name": "Python [python2]"
  },
  "language_info": {
   "codemirror_mode": {
    "name": "ipython",
    "version": 2
   },
   "file_extension": ".py",
   "mimetype": "text/x-python",
   "name": "python",
   "nbconvert_exporter": "python",
   "pygments_lexer": "ipython2",
   "version": "2.7.12"
  }
 },
 "nbformat": 4,
 "nbformat_minor": 0
}
